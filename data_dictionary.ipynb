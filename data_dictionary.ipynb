{
 "cells": [
  {
   "cell_type": "markdown",
   "metadata": {},
   "source": [
    "### Data Dictionary \n",
    "\n",
    "This is the data dictionary to correspond to the following csv files. And child csv files compiled from parent."
   ]
  },
  {
   "cell_type": "markdown",
   "metadata": {},
   "source": [
    "<p align=\"center\"> movies.csv </p>"
   ]
  },
  {
   "cell_type": "markdown",
   "metadata": {},
   "source": [
    "| Field                 | Description                                                        | Source   ---   Completed |\n",
    "|:----------------------|:-------------------------------------------------------------------|:-------------------------|\n",
    "| tconst                | Unique identifier from IMDB.                                       | cleaned movies data file |\n",
    "| Title                 | The films original title.                                          | cleaned movies data file |\n",
    "| Year                  | The year of the films original release.                            | cleaned movies data file |\n",
    "| Genres                | Genres the film is comprised of.                                   | cleaned movies data file |\n",
    "| Rating                | Average rating achieved.                                           | cleaned movies data file |\n",
    "| Votes                 | Total number of votes received.                                    | cleaned movies data file |"
   ]
  },
  {
   "cell_type": "markdown",
   "metadata": {},
   "source": [
    "<p align=\"center\"> tvseries.csv --WIP </p> "
   ]
  },
  {
   "cell_type": "markdown",
   "metadata": {},
   "source": [
    "| Field                 | Description                                                        | Source    ---   Incomplete |\n",
    "|:----------------------|:-------------------------------------------------------------------|:---------------------------|\n",
    "| tconst                | Unique identifier from IMDB.                                       | cleaned tvseries data file |\n",
    "| Title                 | The films original title.                                          | cleaned tvseries data file |\n",
    "| Start                 | The year of the tv series original air/release.                    | cleaned tvseries data file |\n",
    "| End                   | The year of the tv series end of production.                       | cleaned tvseries data file |\n",
    "| Genres                | Genres the film is comprised of.                                   | cleaned tvseries data file |\n",
    "| Rating                | Average rating achieved.                                           | cleaned tvseries data file |\n",
    "| Votes                 | Total number of votes received.                                    | cleaned tvseries data file |"
   ]
  },
  {
   "cell_type": "markdown",
   "metadata": {},
   "source": [
    "<p align=\"center\"> adult.csv --WIP </p>  "
   ]
  },
  {
   "cell_type": "markdown",
   "metadata": {},
   "source": [
    "| Field                 | Description                                                        | Source   --- Incomplete |\n",
    "|:----------------------|:-------------------------------------------------------------------|:------------------------|\n",
    "| tconst                | Unique identifier from IMDB.                                       | cleaned adult data file |\n",
    "| Title                 | The films original title.                                          | cleaned adult data file |\n",
    "| Year                  | The year of the films original release.                            | cleaned adult data file |\n",
    "| Genres                | Genres the film is comprised of.                                   | cleaned adult data file |\n",
    "| Rating                | Average rating achieved.                                           | cleaned adult data file |\n",
    "| Votes                 | Total number of votes received.                                    | cleaned adult data file |"
   ]
  }
 ],
 "metadata": {
  "kernelspec": {
   "display_name": "Python 3 (ipykernel)",
   "language": "python",
   "name": "python3"
  },
  "language_info": {
   "codemirror_mode": {
    "name": "ipython",
    "version": 3
   },
   "file_extension": ".py",
   "mimetype": "text/x-python",
   "name": "python",
   "nbconvert_exporter": "python",
   "pygments_lexer": "ipython3",
   "version": "3.11.1"
  }
 },
 "nbformat": 4,
 "nbformat_minor": 2
}
