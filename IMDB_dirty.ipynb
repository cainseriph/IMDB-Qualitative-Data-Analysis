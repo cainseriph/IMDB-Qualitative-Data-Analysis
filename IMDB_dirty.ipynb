{
 "cells": [
  {
   "cell_type": "markdown",
   "metadata": {},
   "source": [
    "\n",
    "    Requests Library: This library is used to make HTTP requests in Python. It allows us to download files from the internet easily.\n",
    "    Gzip Module: This module provides a simple interface to compress and decompress files using the Gzip format, which is commonly used for file compression.\n",
    "    Shutil Module: This module offers a number of high-level operations on files and collections of files, including copying and moving files.\n",
    "    Pandas Library: A powerful data manipulation and analysis library that provides data structures like DataFrames, which are ideal for handling structured data.\n"
   ]
  },
  {
   "cell_type": "code",
   "execution_count": 1,
   "metadata": {},
   "outputs": [],
   "source": [
    "# Import required libraries\n",
    "import requests\n",
    "import gzip\n",
    "import shutil\n",
    "import os\n",
    "import pandas as pd"
   ]
  },
  {
   "cell_type": "markdown",
   "metadata": {},
   "source": [
    "This part handles the HTTP request to download the file and save it locally."
   ]
  },
  {
   "cell_type": "code",
   "execution_count": 2,
   "metadata": {},
   "outputs": [],
   "source": [
    "# Create data directory if it doesn't exist\n",
    "os.makedirs('data', exist_ok=True)"
   ]
  },
  {
   "cell_type": "code",
   "execution_count": 3,
   "metadata": {},
   "outputs": [],
   "source": [
    "# URLs for the files\n",
    "basics_url = 'https://datasets.imdbws.com/title.basics.tsv.gz'\n",
    "ratings_url = 'https://datasets.imdbws.com/title.ratings.tsv.gz'"
   ]
  },
  {
   "cell_type": "code",
   "execution_count": 4,
   "metadata": {},
   "outputs": [],
   "source": [
    "\n",
    "# Downloading the files\n",
    "#for url in [basics_url, ratings_url]:\n",
    "#    response = requests.get(url)\n",
    "#    filename = os.path.join('data', url.split('/')[-1])\n",
    "#    with open(filename, 'wb') as f:\n",
    "#        f.write(response.content)"
   ]
  },
  {
   "cell_type": "code",
   "execution_count": 5,
   "metadata": {},
   "outputs": [],
   "source": [
    "# Loading the data, extract from Gzip tabs instead of commas, low_mem needed, and handle blanks\n",
    "basics = pd.read_csv('data/title.basics.tsv.gz', compression='gzip', sep='\\t', low_memory=False, na_values=['\\\\N'])\n",
    "ratings = pd.read_csv('data/title.ratings.tsv.gz', compression='gzip', sep='\\t', low_memory=False, na_values=['\\\\N'])\n"
   ]
  },
  {
   "cell_type": "code",
   "execution_count": null,
   "metadata": {},
   "outputs": [
    {
     "name": "stdout",
     "output_type": "stream",
     "text": [
      "<class 'pandas.core.frame.DataFrame'>\n",
      "RangeIndex: 11491166 entries, 0 to 11491165\n",
      "Data columns (total 9 columns):\n",
      " #   Column          Dtype  \n",
      "---  ------          -----  \n",
      " 0   tconst          object \n",
      " 1   titleType       object \n",
      " 2   primaryTitle    object \n",
      " 3   originalTitle   object \n",
      " 4   isAdult         float64\n",
      " 5   startYear       float64\n",
      " 6   endYear         float64\n",
      " 7   runtimeMinutes  object \n",
      " 8   genres          object \n",
      "dtypes: float64(3), object(6)\n",
      "memory usage: 789.0+ MB\n"
     ]
    }
   ],
   "source": [
    "# Intro 'basics'\n",
    "basics.info()"
   ]
  },
  {
   "cell_type": "code",
   "execution_count": 7,
   "metadata": {},
   "outputs": [
    {
     "data": {
      "text/html": [
       "<div>\n",
       "<style scoped>\n",
       "    .dataframe tbody tr th:only-of-type {\n",
       "        vertical-align: middle;\n",
       "    }\n",
       "\n",
       "    .dataframe tbody tr th {\n",
       "        vertical-align: top;\n",
       "    }\n",
       "\n",
       "    .dataframe thead th {\n",
       "        text-align: right;\n",
       "    }\n",
       "</style>\n",
       "<table border=\"1\" class=\"dataframe\">\n",
       "  <thead>\n",
       "    <tr style=\"text-align: right;\">\n",
       "      <th></th>\n",
       "      <th>tconst</th>\n",
       "      <th>titleType</th>\n",
       "      <th>primaryTitle</th>\n",
       "      <th>originalTitle</th>\n",
       "      <th>isAdult</th>\n",
       "      <th>startYear</th>\n",
       "      <th>endYear</th>\n",
       "      <th>runtimeMinutes</th>\n",
       "      <th>genres</th>\n",
       "    </tr>\n",
       "  </thead>\n",
       "  <tbody>\n",
       "    <tr>\n",
       "      <th>11491161</th>\n",
       "      <td>tt9916848</td>\n",
       "      <td>tvEpisode</td>\n",
       "      <td>Episode #3.17</td>\n",
       "      <td>Episode #3.17</td>\n",
       "      <td>0.0</td>\n",
       "      <td>2009.0</td>\n",
       "      <td>NaN</td>\n",
       "      <td>NaN</td>\n",
       "      <td>Drama</td>\n",
       "    </tr>\n",
       "    <tr>\n",
       "      <th>11491162</th>\n",
       "      <td>tt9916850</td>\n",
       "      <td>tvEpisode</td>\n",
       "      <td>Episode #3.19</td>\n",
       "      <td>Episode #3.19</td>\n",
       "      <td>0.0</td>\n",
       "      <td>2010.0</td>\n",
       "      <td>NaN</td>\n",
       "      <td>NaN</td>\n",
       "      <td>Drama</td>\n",
       "    </tr>\n",
       "    <tr>\n",
       "      <th>11491163</th>\n",
       "      <td>tt9916852</td>\n",
       "      <td>tvEpisode</td>\n",
       "      <td>Episode #3.20</td>\n",
       "      <td>Episode #3.20</td>\n",
       "      <td>0.0</td>\n",
       "      <td>2010.0</td>\n",
       "      <td>NaN</td>\n",
       "      <td>NaN</td>\n",
       "      <td>Drama</td>\n",
       "    </tr>\n",
       "    <tr>\n",
       "      <th>11491164</th>\n",
       "      <td>tt9916856</td>\n",
       "      <td>short</td>\n",
       "      <td>The Wind</td>\n",
       "      <td>The Wind</td>\n",
       "      <td>0.0</td>\n",
       "      <td>2015.0</td>\n",
       "      <td>NaN</td>\n",
       "      <td>27</td>\n",
       "      <td>Short</td>\n",
       "    </tr>\n",
       "    <tr>\n",
       "      <th>11491165</th>\n",
       "      <td>tt9916880</td>\n",
       "      <td>tvEpisode</td>\n",
       "      <td>Horrid Henry Knows It All</td>\n",
       "      <td>Horrid Henry Knows It All</td>\n",
       "      <td>0.0</td>\n",
       "      <td>2014.0</td>\n",
       "      <td>NaN</td>\n",
       "      <td>10</td>\n",
       "      <td>Adventure,Animation,Comedy</td>\n",
       "    </tr>\n",
       "  </tbody>\n",
       "</table>\n",
       "</div>"
      ],
      "text/plain": [
       "             tconst  titleType               primaryTitle  \\\n",
       "11491161  tt9916848  tvEpisode              Episode #3.17   \n",
       "11491162  tt9916850  tvEpisode              Episode #3.19   \n",
       "11491163  tt9916852  tvEpisode              Episode #3.20   \n",
       "11491164  tt9916856      short                   The Wind   \n",
       "11491165  tt9916880  tvEpisode  Horrid Henry Knows It All   \n",
       "\n",
       "                      originalTitle  isAdult  startYear  endYear  \\\n",
       "11491161              Episode #3.17      0.0     2009.0      NaN   \n",
       "11491162              Episode #3.19      0.0     2010.0      NaN   \n",
       "11491163              Episode #3.20      0.0     2010.0      NaN   \n",
       "11491164                   The Wind      0.0     2015.0      NaN   \n",
       "11491165  Horrid Henry Knows It All      0.0     2014.0      NaN   \n",
       "\n",
       "         runtimeMinutes                      genres  \n",
       "11491161            NaN                       Drama  \n",
       "11491162            NaN                       Drama  \n",
       "11491163            NaN                       Drama  \n",
       "11491164             27                       Short  \n",
       "11491165             10  Adventure,Animation,Comedy  "
      ]
     },
     "execution_count": 7,
     "metadata": {},
     "output_type": "execute_result"
    }
   ],
   "source": [
    "# Key parts content type, title, year, and genre\n",
    "basics.tail()"
   ]
  },
  {
   "cell_type": "code",
   "execution_count": 8,
   "metadata": {},
   "outputs": [
    {
     "name": "stdout",
     "output_type": "stream",
     "text": [
      "<class 'pandas.core.frame.DataFrame'>\n",
      "RangeIndex: 1540609 entries, 0 to 1540608\n",
      "Data columns (total 3 columns):\n",
      " #   Column         Non-Null Count    Dtype  \n",
      "---  ------         --------------    -----  \n",
      " 0   tconst         1540609 non-null  object \n",
      " 1   averageRating  1540609 non-null  float64\n",
      " 2   numVotes       1540609 non-null  int64  \n",
      "dtypes: float64(1), int64(1), object(1)\n",
      "memory usage: 35.3+ MB\n"
     ]
    }
   ],
   "source": [
    "#Ratings and the number of votes for each title\n",
    "ratings.info()"
   ]
  },
  {
   "cell_type": "markdown",
   "metadata": {},
   "source": [
    "The column \"tconst\" is used in both datasets as a unique identifier for each title.  \n",
    "So we will  use a Pandas merge to combine them. "
   ]
  },
  {
   "cell_type": "code",
   "execution_count": 9,
   "metadata": {},
   "outputs": [
    {
     "data": {
      "text/html": [
       "<div>\n",
       "<style scoped>\n",
       "    .dataframe tbody tr th:only-of-type {\n",
       "        vertical-align: middle;\n",
       "    }\n",
       "\n",
       "    .dataframe tbody tr th {\n",
       "        vertical-align: top;\n",
       "    }\n",
       "\n",
       "    .dataframe thead th {\n",
       "        text-align: right;\n",
       "    }\n",
       "</style>\n",
       "<table border=\"1\" class=\"dataframe\">\n",
       "  <thead>\n",
       "    <tr style=\"text-align: right;\">\n",
       "      <th></th>\n",
       "      <th>tconst</th>\n",
       "      <th>titleType</th>\n",
       "      <th>primaryTitle</th>\n",
       "      <th>originalTitle</th>\n",
       "      <th>isAdult</th>\n",
       "      <th>startYear</th>\n",
       "      <th>endYear</th>\n",
       "      <th>runtimeMinutes</th>\n",
       "      <th>genres</th>\n",
       "      <th>averageRating</th>\n",
       "      <th>numVotes</th>\n",
       "    </tr>\n",
       "  </thead>\n",
       "  <tbody>\n",
       "    <tr>\n",
       "      <th>0</th>\n",
       "      <td>tt0000001</td>\n",
       "      <td>short</td>\n",
       "      <td>Carmencita</td>\n",
       "      <td>Carmencita</td>\n",
       "      <td>0.0</td>\n",
       "      <td>1894.0</td>\n",
       "      <td>NaN</td>\n",
       "      <td>1</td>\n",
       "      <td>Documentary,Short</td>\n",
       "      <td>5.7</td>\n",
       "      <td>2138</td>\n",
       "    </tr>\n",
       "    <tr>\n",
       "      <th>1</th>\n",
       "      <td>tt0000002</td>\n",
       "      <td>short</td>\n",
       "      <td>Le clown et ses chiens</td>\n",
       "      <td>Le clown et ses chiens</td>\n",
       "      <td>0.0</td>\n",
       "      <td>1892.0</td>\n",
       "      <td>NaN</td>\n",
       "      <td>5</td>\n",
       "      <td>Animation,Short</td>\n",
       "      <td>5.5</td>\n",
       "      <td>289</td>\n",
       "    </tr>\n",
       "    <tr>\n",
       "      <th>2</th>\n",
       "      <td>tt0000003</td>\n",
       "      <td>short</td>\n",
       "      <td>Poor Pierrot</td>\n",
       "      <td>Pauvre Pierrot</td>\n",
       "      <td>0.0</td>\n",
       "      <td>1892.0</td>\n",
       "      <td>NaN</td>\n",
       "      <td>5</td>\n",
       "      <td>Animation,Comedy,Romance</td>\n",
       "      <td>6.4</td>\n",
       "      <td>2171</td>\n",
       "    </tr>\n",
       "    <tr>\n",
       "      <th>3</th>\n",
       "      <td>tt0000004</td>\n",
       "      <td>short</td>\n",
       "      <td>Un bon bock</td>\n",
       "      <td>Un bon bock</td>\n",
       "      <td>0.0</td>\n",
       "      <td>1892.0</td>\n",
       "      <td>NaN</td>\n",
       "      <td>12</td>\n",
       "      <td>Animation,Short</td>\n",
       "      <td>5.3</td>\n",
       "      <td>185</td>\n",
       "    </tr>\n",
       "    <tr>\n",
       "      <th>4</th>\n",
       "      <td>tt0000005</td>\n",
       "      <td>short</td>\n",
       "      <td>Blacksmith Scene</td>\n",
       "      <td>Blacksmith Scene</td>\n",
       "      <td>0.0</td>\n",
       "      <td>1893.0</td>\n",
       "      <td>NaN</td>\n",
       "      <td>1</td>\n",
       "      <td>Short</td>\n",
       "      <td>6.2</td>\n",
       "      <td>2905</td>\n",
       "    </tr>\n",
       "  </tbody>\n",
       "</table>\n",
       "</div>"
      ],
      "text/plain": [
       "      tconst titleType            primaryTitle           originalTitle  \\\n",
       "0  tt0000001     short              Carmencita              Carmencita   \n",
       "1  tt0000002     short  Le clown et ses chiens  Le clown et ses chiens   \n",
       "2  tt0000003     short            Poor Pierrot          Pauvre Pierrot   \n",
       "3  tt0000004     short             Un bon bock             Un bon bock   \n",
       "4  tt0000005     short        Blacksmith Scene        Blacksmith Scene   \n",
       "\n",
       "   isAdult  startYear  endYear runtimeMinutes                    genres  \\\n",
       "0      0.0     1894.0      NaN              1         Documentary,Short   \n",
       "1      0.0     1892.0      NaN              5           Animation,Short   \n",
       "2      0.0     1892.0      NaN              5  Animation,Comedy,Romance   \n",
       "3      0.0     1892.0      NaN             12           Animation,Short   \n",
       "4      0.0     1893.0      NaN              1                     Short   \n",
       "\n",
       "   averageRating  numVotes  \n",
       "0            5.7      2138  \n",
       "1            5.5       289  \n",
       "2            6.4      2171  \n",
       "3            5.3       185  \n",
       "4            6.2      2905  "
      ]
     },
     "execution_count": 9,
     "metadata": {},
     "output_type": "execute_result"
    }
   ],
   "source": [
    "# Merging the dataframes\n",
    "imdb = pd.merge(basics, ratings, on='tconst')\n",
    "imdb.head()"
   ]
  },
  {
   "cell_type": "code",
   "execution_count": 10,
   "metadata": {},
   "outputs": [],
   "source": [
    "# Convert 'isAdult' column to int\n",
    "imdb['isAdult'] = imdb['isAdult'].astype(int)"
   ]
  },
  {
   "cell_type": "code",
   "execution_count": 11,
   "metadata": {},
   "outputs": [
    {
     "name": "stdout",
     "output_type": "stream",
     "text": [
      "int64\n"
     ]
    }
   ],
   "source": [
    "# Verify the conversion\n",
    "print(imdb['isAdult'].dtype)"
   ]
  },
  {
   "cell_type": "code",
   "execution_count": 12,
   "metadata": {},
   "outputs": [
    {
     "name": "stdout",
     "output_type": "stream",
     "text": [
      "Unique year (list): [1894.0, 1892.0, 1893.0, 1895.0, 1896.0, 1898.0, 1897.0, 1900.0, 1899.0, 1901.0, 1902.0, 1903.0, 1904.0, 1912.0, 1907.0, 1905.0, 1906.0, 1908.0, 1910.0, 1909.0, 1911.0, 1990.0, 1914.0, 1913.0, 1915.0, 1919.0, 1916.0, 1917.0, 1918.0, 1936.0, 1925.0, 1922.0, 1920.0, 1921.0, 1923.0, 1924.0, 1927.0, 1929.0, 1926.0, 1993.0, 1935.0, 1928.0, 1942.0, 1930.0, 1931.0, 1939.0, 1932.0, 1937.0, 1950.0, 1933.0, 1938.0, 1951.0, 1934.0, 1945.0, 1946.0, 1940.0, 1944.0, 1949.0, 1947.0, 1941.0, 1952.0, 1970.0, 1957.0, 1943.0, 1959.0, 1948.0, 2001.0, 1953.0, 1954.0, 1965.0, 1983.0, 1980.0, 1973.0, 1961.0, 1995.0, 1958.0, 1955.0, 1964.0, 1956.0, 1962.0, 1960.0, 1977.0, 2012.0, 1967.0, 2007.0, 1963.0, 1971.0, 1968.0, 1969.0, 1972.0, 1966.0, 2021.0, 2023.0, 1976.0, 2016.0, 1979.0, 1974.0, 1981.0, 2020.0, 1988.0, 1978.0, 2014.0, 1989.0, 1975.0, 1986.0, 1985.0, 1987.0, 2010.0, 2018.0, 1996.0, 1992.0, 2022.0, 1984.0, 1982.0, 1991.0, 2008.0, 1999.0, 2005.0, 2003.0, 1998.0, 1994.0, 2002.0, 1997.0, 2009.0, 2004.0, 2017.0, 2000.0, 2024.0, 2006.0, 2015.0, 2019.0, nan, 2013.0, 2011.0, 1891.0, 1888.0, 1890.0, 1889.0, 2025.0, 1878.0, 1882.0, 1881.0, 1887.0, 1874.0, 1883.0, 1885.0]\n"
     ]
    }
   ],
   "source": [
    "# Display list of values from the column 'startYear' \n",
    "unique_year_list = imdb['startYear'].unique().tolist()\n",
    "print(\"Unique year (list):\", unique_year_list)"
   ]
  },
  {
   "cell_type": "code",
   "execution_count": 13,
   "metadata": {},
   "outputs": [],
   "source": [
    "# Save the list as a text file in the folder data\n",
    "with open('data/unique_years.txt', 'w') as f:\n",
    "    for year in unique_year_list:\n",
    "        f.write(f\"{year}\\n\")"
   ]
  },
  {
   "cell_type": "code",
   "execution_count": 14,
   "metadata": {},
   "outputs": [],
   "source": [
    "# Drop rows containing nan in 'startYear'\n",
    "imdb = imdb.dropna(subset=['startYear'])"
   ]
  },
  {
   "cell_type": "code",
   "execution_count": 15,
   "metadata": {},
   "outputs": [],
   "source": [
    "# Display list of values from the column 'startYear' \n",
    "unique_year_clean_list = imdb['startYear'].unique().tolist()\n",
    "# Save the list as a text file in the folder data\n",
    "with open('data/unique_years_clean.txt', 'w') as f:\n",
    "    for year in unique_year_clean_list:\n",
    "        f.write(f\"{year}\\n\")"
   ]
  },
  {
   "cell_type": "code",
   "execution_count": 16,
   "metadata": {},
   "outputs": [
    {
     "name": "stdout",
     "output_type": "stream",
     "text": [
      "Unique values (list): ['short', 'movie', 'tvShort', 'tvMovie', 'tvEpisode', 'tvSeries', 'tvMiniSeries', 'tvSpecial', 'video', 'videoGame']\n"
     ]
    }
   ],
   "source": [
    "# Display list of values from the column 'titleType' \n",
    "unique_values_list = imdb['titleType'].unique().tolist()\n",
    "print(\"Unique values (list):\", unique_values_list)"
   ]
  },
  {
   "cell_type": "code",
   "execution_count": 17,
   "metadata": {},
   "outputs": [
    {
     "data": {
      "text/plain": [
       "1540327"
      ]
     },
     "execution_count": 17,
     "metadata": {},
     "output_type": "execute_result"
    }
   ],
   "source": [
    "# Grab a measurement\n",
    "len(imdb)"
   ]
  },
  {
   "cell_type": "code",
   "execution_count": 18,
   "metadata": {},
   "outputs": [],
   "source": [
    "# Create new DataFrame with only movies\n",
    "movies = imdb[imdb['titleType'].str.contains('movie', case=False)]\n",
    "# Create new DataFrame with only tvseries TBD\n",
    "#tvseries = imdb[imdb['titleType'].str.contains('tvseries', case=False)]\n",
    "# Create new DataFrame with only videogames TBD\n",
    "#videogame = imdb[imdb['titleType'].str.contains('videogame', case=False)]\n"
   ]
  },
  {
   "cell_type": "code",
   "execution_count": 19,
   "metadata": {},
   "outputs": [
    {
     "data": {
      "text/plain": [
       "380819"
      ]
     },
     "execution_count": 19,
     "metadata": {},
     "output_type": "execute_result"
    }
   ],
   "source": [
    "# Updated measurement\n",
    "len(movies)"
   ]
  },
  {
   "cell_type": "code",
   "execution_count": 20,
   "metadata": {},
   "outputs": [
    {
     "name": "stdout",
     "output_type": "stream",
     "text": [
      "Unique adult (list): [0, 1]\n"
     ]
    }
   ],
   "source": [
    "# Display list of values from the column 'isAdult' \n",
    "unique_adult_list = movies['isAdult'].unique().tolist()\n",
    "print(\"Unique adult (list):\", unique_adult_list)"
   ]
  },
  {
   "cell_type": "code",
   "execution_count": 21,
   "metadata": {},
   "outputs": [],
   "source": [
    "# Create a DataFrame 'adult' from 'movies' DataFrame where 'isAdult' column has the value 1\n",
    "adult = movies[movies['isAdult'] == 1]"
   ]
  },
  {
   "cell_type": "code",
   "execution_count": 22,
   "metadata": {},
   "outputs": [],
   "source": [
    "# Write the Adult DataFrame to a CSV file for possible further use\n",
    "adult.to_csv('data/adult.csv', index=False)"
   ]
  },
  {
   "cell_type": "code",
   "execution_count": 23,
   "metadata": {},
   "outputs": [],
   "source": [
    "# Compress the adult.csv file\n",
    "with open('data/adult.csv', 'rb') as f_in:\n",
    "    with gzip.open('data/adult.csv.gz', 'wb') as f_out:\n",
    "        shutil.copyfileobj(f_in, f_out)"
   ]
  },
  {
   "cell_type": "code",
   "execution_count": 24,
   "metadata": {},
   "outputs": [],
   "source": [
    "# Remove all rows in movies that contain adult films\n",
    "movies = movies[movies['isAdult'] != 1]"
   ]
  },
  {
   "cell_type": "code",
   "execution_count": 25,
   "metadata": {},
   "outputs": [
    {
     "data": {
      "text/html": [
       "<div>\n",
       "<style scoped>\n",
       "    .dataframe tbody tr th:only-of-type {\n",
       "        vertical-align: middle;\n",
       "    }\n",
       "\n",
       "    .dataframe tbody tr th {\n",
       "        vertical-align: top;\n",
       "    }\n",
       "\n",
       "    .dataframe thead th {\n",
       "        text-align: right;\n",
       "    }\n",
       "</style>\n",
       "<table border=\"1\" class=\"dataframe\">\n",
       "  <thead>\n",
       "    <tr style=\"text-align: right;\">\n",
       "      <th></th>\n",
       "      <th>tconst</th>\n",
       "      <th>titleType</th>\n",
       "      <th>primaryTitle</th>\n",
       "      <th>originalTitle</th>\n",
       "      <th>isAdult</th>\n",
       "      <th>startYear</th>\n",
       "      <th>endYear</th>\n",
       "      <th>runtimeMinutes</th>\n",
       "      <th>genres</th>\n",
       "      <th>averageRating</th>\n",
       "      <th>numVotes</th>\n",
       "    </tr>\n",
       "  </thead>\n",
       "  <tbody>\n",
       "    <tr>\n",
       "      <th>8</th>\n",
       "      <td>tt0000009</td>\n",
       "      <td>movie</td>\n",
       "      <td>Miss Jerry</td>\n",
       "      <td>Miss Jerry</td>\n",
       "      <td>0</td>\n",
       "      <td>1894.0</td>\n",
       "      <td>NaN</td>\n",
       "      <td>45</td>\n",
       "      <td>Romance</td>\n",
       "      <td>5.3</td>\n",
       "      <td>222</td>\n",
       "    </tr>\n",
       "    <tr>\n",
       "      <th>144</th>\n",
       "      <td>tt0000147</td>\n",
       "      <td>movie</td>\n",
       "      <td>The Corbett-Fitzsimmons Fight</td>\n",
       "      <td>The Corbett-Fitzsimmons Fight</td>\n",
       "      <td>0</td>\n",
       "      <td>1897.0</td>\n",
       "      <td>NaN</td>\n",
       "      <td>100</td>\n",
       "      <td>Documentary,News,Sport</td>\n",
       "      <td>5.2</td>\n",
       "      <td>551</td>\n",
       "    </tr>\n",
       "    <tr>\n",
       "      <th>339</th>\n",
       "      <td>tt0000502</td>\n",
       "      <td>movie</td>\n",
       "      <td>Bohemios</td>\n",
       "      <td>Bohemios</td>\n",
       "      <td>0</td>\n",
       "      <td>1905.0</td>\n",
       "      <td>NaN</td>\n",
       "      <td>100</td>\n",
       "      <td>NaN</td>\n",
       "      <td>3.8</td>\n",
       "      <td>21</td>\n",
       "    </tr>\n",
       "    <tr>\n",
       "      <th>375</th>\n",
       "      <td>tt0000574</td>\n",
       "      <td>movie</td>\n",
       "      <td>The Story of the Kelly Gang</td>\n",
       "      <td>The Story of the Kelly Gang</td>\n",
       "      <td>0</td>\n",
       "      <td>1906.0</td>\n",
       "      <td>NaN</td>\n",
       "      <td>70</td>\n",
       "      <td>Action,Adventure,Biography</td>\n",
       "      <td>6.0</td>\n",
       "      <td>976</td>\n",
       "    </tr>\n",
       "    <tr>\n",
       "      <th>385</th>\n",
       "      <td>tt0000591</td>\n",
       "      <td>movie</td>\n",
       "      <td>The Prodigal Son</td>\n",
       "      <td>L'enfant prodigue</td>\n",
       "      <td>0</td>\n",
       "      <td>1907.0</td>\n",
       "      <td>NaN</td>\n",
       "      <td>90</td>\n",
       "      <td>Drama</td>\n",
       "      <td>5.6</td>\n",
       "      <td>31</td>\n",
       "    </tr>\n",
       "  </tbody>\n",
       "</table>\n",
       "</div>"
      ],
      "text/plain": [
       "        tconst titleType                   primaryTitle  \\\n",
       "8    tt0000009     movie                     Miss Jerry   \n",
       "144  tt0000147     movie  The Corbett-Fitzsimmons Fight   \n",
       "339  tt0000502     movie                       Bohemios   \n",
       "375  tt0000574     movie    The Story of the Kelly Gang   \n",
       "385  tt0000591     movie               The Prodigal Son   \n",
       "\n",
       "                     originalTitle  isAdult  startYear  endYear  \\\n",
       "8                       Miss Jerry        0     1894.0      NaN   \n",
       "144  The Corbett-Fitzsimmons Fight        0     1897.0      NaN   \n",
       "339                       Bohemios        0     1905.0      NaN   \n",
       "375    The Story of the Kelly Gang        0     1906.0      NaN   \n",
       "385              L'enfant prodigue        0     1907.0      NaN   \n",
       "\n",
       "    runtimeMinutes                      genres  averageRating  numVotes  \n",
       "8               45                     Romance            5.3       222  \n",
       "144            100      Documentary,News,Sport            5.2       551  \n",
       "339            100                         NaN            3.8        21  \n",
       "375             70  Action,Adventure,Biography            6.0       976  \n",
       "385             90                       Drama            5.6        31  "
      ]
     },
     "execution_count": 25,
     "metadata": {},
     "output_type": "execute_result"
    }
   ],
   "source": [
    "# Look for more bloat\n",
    "movies.head()"
   ]
  },
  {
   "cell_type": "code",
   "execution_count": 26,
   "metadata": {},
   "outputs": [
    {
     "data": {
      "text/plain": [
       "376097"
      ]
     },
     "execution_count": 26,
     "metadata": {},
     "output_type": "execute_result"
    }
   ],
   "source": [
    "# Count remainder\n",
    "len(movies)"
   ]
  },
  {
   "cell_type": "code",
   "execution_count": 27,
   "metadata": {},
   "outputs": [
    {
     "name": "stdout",
     "output_type": "stream",
     "text": [
      "Unique adult (list): [0]\n"
     ]
    }
   ],
   "source": [
    "# Confirm adult films have been dropped \n",
    "unique_adult_list2 = movies['isAdult'].unique().tolist()\n",
    "print(\"Unique adult (list):\", unique_adult_list2)"
   ]
  },
  {
   "cell_type": "code",
   "execution_count": 28,
   "metadata": {},
   "outputs": [],
   "source": [
    "# Columns to remove\n",
    "columns_to_remove = ['titleType', 'primaryTitle', 'isAdult', 'endYear', 'runtimeMinutes']"
   ]
  },
  {
   "cell_type": "code",
   "execution_count": 29,
   "metadata": {},
   "outputs": [],
   "source": [
    "# Removing the specified columns\n",
    "movies.drop(columns=columns_to_remove, inplace=True)\n"
   ]
  },
  {
   "cell_type": "code",
   "execution_count": 30,
   "metadata": {},
   "outputs": [],
   "source": [
    "# Change column names for easier consumption, aligning with data dictionary \n",
    "movies.rename(columns={'originalTitle': 'Title'}, inplace=True)\n",
    "movies.rename(columns={'startYear': 'Year'}, inplace=True)\n",
    "movies.rename(columns={'genres': 'Genres'}, inplace=True)\n",
    "movies.rename(columns={'averageRating': 'Rating'}, inplace=True)\n",
    "movies.rename(columns={'numVotes': 'Votes'}, inplace=True)"
   ]
  },
  {
   "cell_type": "code",
   "execution_count": 31,
   "metadata": {},
   "outputs": [
    {
     "data": {
      "text/html": [
       "<div>\n",
       "<style scoped>\n",
       "    .dataframe tbody tr th:only-of-type {\n",
       "        vertical-align: middle;\n",
       "    }\n",
       "\n",
       "    .dataframe tbody tr th {\n",
       "        vertical-align: top;\n",
       "    }\n",
       "\n",
       "    .dataframe thead th {\n",
       "        text-align: right;\n",
       "    }\n",
       "</style>\n",
       "<table border=\"1\" class=\"dataframe\">\n",
       "  <thead>\n",
       "    <tr style=\"text-align: right;\">\n",
       "      <th></th>\n",
       "      <th>tconst</th>\n",
       "      <th>Title</th>\n",
       "      <th>Year</th>\n",
       "      <th>Genres</th>\n",
       "      <th>Rating</th>\n",
       "      <th>Votes</th>\n",
       "    </tr>\n",
       "  </thead>\n",
       "  <tbody>\n",
       "    <tr>\n",
       "      <th>8</th>\n",
       "      <td>tt0000009</td>\n",
       "      <td>Miss Jerry</td>\n",
       "      <td>1894.0</td>\n",
       "      <td>Romance</td>\n",
       "      <td>5.3</td>\n",
       "      <td>222</td>\n",
       "    </tr>\n",
       "    <tr>\n",
       "      <th>144</th>\n",
       "      <td>tt0000147</td>\n",
       "      <td>The Corbett-Fitzsimmons Fight</td>\n",
       "      <td>1897.0</td>\n",
       "      <td>Documentary,News,Sport</td>\n",
       "      <td>5.2</td>\n",
       "      <td>551</td>\n",
       "    </tr>\n",
       "    <tr>\n",
       "      <th>339</th>\n",
       "      <td>tt0000502</td>\n",
       "      <td>Bohemios</td>\n",
       "      <td>1905.0</td>\n",
       "      <td>NaN</td>\n",
       "      <td>3.8</td>\n",
       "      <td>21</td>\n",
       "    </tr>\n",
       "    <tr>\n",
       "      <th>375</th>\n",
       "      <td>tt0000574</td>\n",
       "      <td>The Story of the Kelly Gang</td>\n",
       "      <td>1906.0</td>\n",
       "      <td>Action,Adventure,Biography</td>\n",
       "      <td>6.0</td>\n",
       "      <td>976</td>\n",
       "    </tr>\n",
       "    <tr>\n",
       "      <th>385</th>\n",
       "      <td>tt0000591</td>\n",
       "      <td>L'enfant prodigue</td>\n",
       "      <td>1907.0</td>\n",
       "      <td>Drama</td>\n",
       "      <td>5.6</td>\n",
       "      <td>31</td>\n",
       "    </tr>\n",
       "  </tbody>\n",
       "</table>\n",
       "</div>"
      ],
      "text/plain": [
       "        tconst                          Title    Year  \\\n",
       "8    tt0000009                     Miss Jerry  1894.0   \n",
       "144  tt0000147  The Corbett-Fitzsimmons Fight  1897.0   \n",
       "339  tt0000502                       Bohemios  1905.0   \n",
       "375  tt0000574    The Story of the Kelly Gang  1906.0   \n",
       "385  tt0000591              L'enfant prodigue  1907.0   \n",
       "\n",
       "                         Genres  Rating  Votes  \n",
       "8                       Romance     5.3    222  \n",
       "144      Documentary,News,Sport     5.2    551  \n",
       "339                         NaN     3.8     21  \n",
       "375  Action,Adventure,Biography     6.0    976  \n",
       "385                       Drama     5.6     31  "
      ]
     },
     "execution_count": 31,
     "metadata": {},
     "output_type": "execute_result"
    }
   ],
   "source": [
    "# Check our work\n",
    "movies.head()"
   ]
  },
  {
   "cell_type": "code",
   "execution_count": 32,
   "metadata": {},
   "outputs": [
    {
     "name": "stdout",
     "output_type": "stream",
     "text": [
      "Unique Genres (list): ['Romance', 'Documentary,News,Sport', nan, 'Action,Adventure,Biography', 'Drama', 'Adventure,Fantasy', 'Comedy', 'Drama,War', 'Crime', 'Drama,Romance', 'Adventure,Drama', 'Biography,Drama,Family', 'Drama,History', 'War', 'Biography,Drama,History', 'Sci-Fi', 'Adventure,Drama,Fantasy', 'Biography,Drama', 'Documentary,War', 'Biography,Drama,Romance', 'History,War', 'Action,Drama,Thriller', 'Crime,Thriller', 'Adventure', 'Drama,Thriller', 'Western', 'Crime,Drama,Romance', 'Crime,Drama', 'Documentary', 'Comedy,Fantasy', 'Adventure,Drama,Romance', 'Crime,Drama,Mystery', 'Comedy,Drama', 'Biography', 'Drama,Fantasy,Horror', 'Action,Adventure', 'Comedy,Crime', 'Adventure,Comedy', 'Documentary,Western', 'Crime,Drama,Horror', 'Adventure,Biography,Western', 'Adventure,Crime', 'Adventure,Drama,History', 'Action,Drama,Romance', 'Drama,Fantasy', 'Drama,Music,Western', 'Action', 'Adventure,Horror', 'Horror', 'Drama,Mystery', 'Adventure,Comedy,Family', 'Crime,Horror,Mystery', 'History,Western', 'Action,Adventure,Drama', 'Adventure,Mystery,Romance', 'Fantasy', 'Comedy,Crime,Drama', 'Drama,History,Romance', 'Action,Adventure,Romance', 'Crime,Drama,Western', 'Drama,Western', 'Comedy,Drama,Romance', 'Mystery', 'Adventure,Mystery', 'Documentary,Sport', 'Comedy,Crime,Thriller', 'Adventure,Family,Fantasy', 'Adventure,Comedy,Drama', 'Drama,Sci-Fi', 'Action,Drama,History', 'Drama,Romance,War', 'Comedy,Western', 'Drama,History,War', 'Adventure,Romance', 'Comedy,Romance', 'Adventure,Crime,Drama', 'Romance,Western', 'Adventure,Comedy,Western', 'Drama,Horror,Sci-Fi', 'Action,Adventure,Crime', 'Adventure,Drama,Mystery', 'Drama,Horror', 'Adventure,Romance,Western', 'Biography,Crime,Drama', 'Drama,Mystery,Romance', 'Adventure,Crime,Thriller', 'Action,Crime,Drama', 'Action,Adventure,Comedy', 'Action,Adventure,Sci-Fi', 'Action,Drama', 'Adventure,Comedy,Romance', 'Adventure,History', 'Horror,Mystery', 'Action,Biography,Western', 'Adventure,Western', 'Comedy,Sport', 'Horror,Sci-Fi', 'Action,Adventure,War', 'Action,Drama,War', 'Action,Comedy,Romance', 'Comedy,Sci-Fi', 'Comedy,Drama,Mystery', 'Action,Comedy,Drama', 'Adventure,Romance,Thriller', 'Fantasy,Sci-Fi', 'Crime,Mystery', 'Adventure,Drama,Western', 'Fantasy,Romance', 'History', 'Drama,Family,Fantasy', 'Fantasy,Thriller', 'Biography,Western', 'Comedy,Thriller', 'Action,Romance,Western', 'Adventure,Fantasy,Sci-Fi', 'Comedy,Mystery', 'Adventure,Family', 'Drama,Horror,Mystery', 'Drama,History,Western', 'Adventure,War', 'Comedy,Drama,Family', 'Adventure,Crime,Romance', 'Comedy,Mystery,Thriller', 'Drama,Fantasy,Sci-Fi', 'Comedy,Romance,Western', 'History,Romance', 'Documentary,History,War', 'Adventure,Comedy,Crime', 'Animation', 'Family,Fantasy', 'Action,War,Western', 'Biography,Drama,War', 'Drama,Thriller,War', 'Comedy,War', 'Drama,Family,Romance', 'Animation,Comedy', 'Adventure,Fantasy,Romance', 'Action,Western', 'Comedy,Drama,War', 'Music', 'Drama,Romance,Thriller', 'Crime,Drama,History', 'Action,Crime,Thriller', 'Action,Drama,Western', 'Drama,Sport', 'Crime,Western', 'Comedy,Crime,Western', 'Drama,Romance,Western', 'Romance,Thriller', 'Drama,Horror,War', 'Comedy,Drama,Western', 'Horror,Mystery,Thriller', 'Adventure,Horror,Romance', 'Action,Adventure,Mystery', 'Drama,History,Horror', 'Drama,Horror,Romance', 'Comedy,Fantasy,Sci-Fi', 'Action,Thriller', 'Comedy,Drama,Sport', 'Action,Mystery,Thriller', 'Fantasy,Horror,Mystery', 'Adventure,Mystery,Western', 'Action,Adventure,Fantasy', 'Adventure,Fantasy,Mystery', 'Adventure,Drama,War', 'Fantasy,Horror', 'Fantasy,Horror,Romance', 'Comedy,Drama,Horror', 'Adventure,Sci-Fi', 'Biography,Comedy,Drama', 'Crime,Horror', 'Drama,Music,War', 'Crime,Drama,Fantasy', 'Action,Adventure,Western', 'Adventure,Thriller', 'Adventure,Documentary', 'Action,Adventure,Horror', 'Drama,Horror,Thriller', 'Adventure,Comedy,Fantasy', 'Drama,Fantasy,Romance', 'Crime,Romance,Thriller', 'Action,Adventure,Family', 'Action,Sport,Thriller', 'Drama,Romance,Sport', 'Crime,Mystery,Thriller', 'Comedy,Horror', 'Comedy,Family', 'Documentary,Fantasy,Horror', 'Crime,Romance', 'Mystery,Sci-Fi', 'Comedy,Horror,Mystery', 'Adventure,Family,Romance', 'Adventure,Mystery,Thriller', 'Crime,Drama,Thriller', 'Action,Comedy,Sport', 'Comedy,Romance,Thriller', 'Biography,Music', 'Action,Comedy,Thriller', 'Drama,Family', 'Mystery,Romance', 'Action,Drama,Sport', 'Action,Drama,Family', 'Comedy,Fantasy,Romance', 'Adventure,Animation,Drama', 'Adventure,War,Western', 'Drama,History,Thriller', 'Comedy,Family,Romance', 'Drama,Thriller,Western', 'Comedy,Family,Musical', 'Adventure,Fantasy,Horror', 'Action,Drama,Sci-Fi', 'Comedy,Crime,Romance', 'Horror,Music', 'Comedy,Romance,Sport', 'Documentary,Drama', 'Comedy,Drama,Fantasy', 'Adventure,Family,Western', 'Adventure,Drama,Horror', 'Adventure,Romance,War', 'Action,Comedy,Crime', 'Mystery,Thriller', 'Action,History,Romance', 'Biography,History,Western', 'Comedy,Musical', 'Action,Comedy,War', 'Adventure,Crime,Mystery', 'Action,Drama,Fantasy', 'Horror,Thriller', 'Comedy,Romance,War', 'Action,Crime', 'Action,Drama,Mystery', 'Adventure,Documentary,Drama', 'Adventure,Drama,Thriller', 'Drama,Music,Musical', 'Drama,Fantasy,War', 'Documentary,History', 'Action,Comedy', 'Thriller', 'Crime,Drama,Film-Noir', 'Horror,Mystery,Sci-Fi', 'Adventure,Mystery,War', 'Musical', 'Crime,Drama,Music', 'Drama,Music,Romance', 'Mystery,Western', 'Family', 'Comedy,Drama,Music', 'Drama,Musical', 'Action,Comedy,Family', 'Action,Crime,Romance', 'Drama,Musical,Romance', 'Comedy,Crime,Mystery', 'Action,Drama,Music', 'Crime,Music,Romance', 'Comedy,Drama,Musical', 'Mystery,Romance,Thriller', 'Comedy,Musical,Romance', 'Action,Musical,Romance', 'Music,Romance,War', 'Adventure,Drama,Music', 'Musical,Romance,Western', 'Comedy,Music', 'Musical,Romance', 'Drama,Mystery,Thriller', 'Adventure,Romance,Sci-Fi', 'Crime,Mystery,Romance', 'Comedy,Musical,Western', 'Documentary,History,Sport', 'Music,Romance,Sport', 'Action,Comedy,Music', 'Mystery,Romance,Western', 'Comedy,Music,Romance', 'Crime,Drama,War', 'Drama,Musical,Mystery', 'Music,Romance', 'Comedy,Fantasy,Musical', 'Adventure,Fantasy,Musical', 'Biography,Drama,Musical', 'Comedy,Crime,Sci-Fi', 'Family,Western', 'Drama,Family,Western', 'Action,Adventure,Music', 'Music,Musical,Romance', 'Crime,Drama,Musical', 'Adventure,Animation,Comedy', 'Comedy,Mystery,Romance', 'Action,Romance,Thriller', 'Adventure,Comedy,Mystery', 'Action,Adventure,Musical', 'Comedy,Musical,Sport', 'Adventure,Comedy,Music', 'Adventure,Musical,Romance', 'Drama,Family,Sport', 'Comedy,Family,Fantasy', 'Adventure,Drama,Family', 'Drama,Sport,Thriller', 'Comedy,Horror,Thriller', 'Adventure,Comedy,Musical', 'Comedy,History,Musical', 'Drama,Mystery,Western', 'Action,Crime,Mystery', 'Mystery,Sport', 'Drama,Fantasy,Mystery', 'Comedy,Crime,Horror', 'Drama,War,Western', 'Comedy,Crime,Musical', 'Adventure,Horror,Sci-Fi', 'Crime,Film-Noir,Romance', 'Adventure,Drama,Film-Noir', 'Drama,Mystery,Sci-Fi', 'Adventure,Thriller,Western', 'Comedy,Horror,Sci-Fi', 'Drama,Film-Noir,Romance', 'Drama,Music', 'History,Musical', 'Comedy,Music,Mystery', 'Comedy,Fantasy,Music', 'Action,Drama,Horror', 'Action,Crime,Music', 'Film-Noir,Horror,Sci-Fi', 'Action,Mystery,Romance', 'Biography,Drama,Music', 'Romance,Sport', 'Adventure,Music,Romance', 'Drama,Sci-Fi,War', 'Drama,Family,Mystery', 'Crime,Music,Mystery', 'Comedy,Crime,Music', 'Music,Romance,Western', 'Comedy,Drama,History', 'Adventure,Family,Sci-Fi', 'Biography,Music,Romance', 'Comedy,Music,Musical', 'Action,Crime,Family', 'Comedy,Family,Mystery', 'Drama,History,Music', 'Comedy,Musical,Mystery', 'Crime,Horror,Romance', 'Drama,Mystery,Sport', 'Crime,Sci-Fi', 'Action,Comedy,Mystery', 'Action,Crime,Western', 'Biography,Comedy', 'Crime,Music,Musical', 'Drama,Music,Mystery', 'Drama,History,Musical', 'Comedy,Family,Music', 'Crime,Musical,Romance', 'Action,Adventure,Thriller', 'Biography,Drama,Western', 'Documentary,Music', 'Adventure,Drama,Musical', 'Action,Adventure,History', 'Family,Musical,Romance', 'Action,Biography,Drama', 'Action,Romance', 'Comedy,Fantasy,Horror', 'Comedy,History,Romance', 'Comedy,Crime,Family', 'Horror,Romance,Sci-Fi', 'Musical,Romance,War', 'Adventure,Biography,Drama', 'Comedy,History,Mystery', 'Drama,News,War', 'War,Western', 'Family,Musical', 'Musical,Mystery,Romance', 'Family,Sci-Fi', 'Comedy,Crime,Film-Noir', 'Comedy,Family,War', 'Horror,Sci-Fi,Thriller', 'Biography,Musical,Romance', 'Drama,Family,Musical', 'Comedy,Family,Sport', 'Comedy,Musical,War', 'Adventure,Family,Musical', 'Crime,Drama,Sport', 'Action,Romance,Sport', 'Comedy,Music,War', 'Action,Drama,Musical', 'Adventure,Crime,Sci-Fi', 'Action,Music,Romance', 'Drama,History,Mystery', 'Adventure,History,Romance', 'History,Musical,Romance', 'Mystery,Romance,Sport', 'Crime,Mystery,Sci-Fi', 'Adventure,Music,Musical', 'Comedy,Thriller,War', 'Musical,Western', 'Comedy,History', 'Crime,Musical', 'Adventure,Animation,Family', 'Drama,Film-Noir,Mystery', 'Comedy,Family,Western', 'Action,Music,Western', 'Action,Family,Western', 'Adventure,Biography,Romance', 'Comedy,Music,Sport', 'Biography,War', 'Drama,Fantasy,Musical', 'Musical,Romance,Sport', 'Crime,Film-Noir,Mystery', 'Romance,Sci-Fi', 'Drama,Film-Noir', 'Action,History', 'Biography,Drama,Sport', 'Crime,Film-Noir', 'Comedy,Crime,Sport', 'Biography,Comedy,Crime', 'Biography,Music,Musical', 'Adventure,Crime,Family', 'Adventure,Comedy,War', 'Crime,Horror,Sci-Fi', 'History,War,Western', 'Drama,Film-Noir,Thriller', 'Action,Family,Horror', 'Thriller,War', 'Biography,Comedy,Music', 'Drama,Family,Music', 'Crime,Drama,Family', 'Action,Music', 'Animation,Family,Fantasy', 'Biography,Documentary,Drama', 'Romance,Thriller,War', 'Sport,Thriller', 'Fantasy,Mystery', 'Romance,War', 'Comedy,Horror,Romance', 'Action,Music,Sci-Fi', 'Drama,Sci-Fi,Thriller', 'History,Music,Romance', 'Action,Comedy,Western', 'Action,Comedy,Musical', 'Animation,Comedy,Family', 'Adventure,Comedy,Horror', 'Biography,Musical', 'Drama,Mystery,War', 'Action,Documentary', 'Comedy,Fantasy,Mystery', 'Horror,Mystery,Romance', 'Horror,Thriller,War', 'Action,Crime,Musical', 'Crime,Horror,Thriller', 'Fantasy,Horror,Thriller', 'Biography,History', 'Comedy,Drama,Film-Noir', 'Action,Adventure,Documentary', 'Film-Noir,Mystery,Romance', 'Comedy,History,Music', 'History,Romance,Sci-Fi', 'Drama,Film-Noir,Horror', 'Action,Documentary,Drama', 'Film-Noir,Mystery', 'Fantasy,Horror,Sci-Fi', 'Comedy,Romance,Sci-Fi', 'Adventure,Biography,War', 'Comedy,Horror,Music', 'Film-Noir,Horror,Thriller', 'Action,War', 'Musical,War', 'Drama,Horror,Music', 'Biography,Drama,Mystery', 'Animation,Documentary,History', 'Horror,Music,Thriller', 'Adventure,Musical,War', 'Film-Noir,Romance,Thriller', 'Adventure,Sci-Fi,War', 'Drama,Fantasy,Thriller', 'Mystery,Romance,War', 'Action,Crime,Film-Noir', 'Drama,Family,War', 'Adventure,Crime,Western', 'Adventure,Animation,Musical', 'Adventure,Comedy,Thriller', 'Action,Crime,Horror', 'Action,Sci-Fi', 'Comedy,Music,Western', 'Music,Musical', 'Drama,Musical,War', 'Fantasy,Musical', 'Fantasy,Musical,Romance', 'Film-Noir,Mystery,Thriller', 'Comedy,Drama,Thriller', 'Comedy,Sci-Fi,War', 'Adventure,Film-Noir,Romance', 'Animation,Fantasy,Romance', 'Drama,Musical,Thriller', 'Drama,Film-Noir,Music', 'Adventure,Comedy,History', 'Comedy,Fantasy,History', 'Comedy,Film-Noir,Mystery', 'Family,Fantasy,Musical', 'Drama,History,Sport', 'Drama,Film-Noir,Sport', 'Crime,Film-Noir,Thriller', 'Action,Comedy,Fantasy', 'Adventure,Comedy,Sport', 'Adventure,Family,Mystery', 'Animation,Comedy,Romance', 'Adventure,Horror,Mystery', 'Action,Biography,Crime', 'Film-Noir,Horror,Mystery', 'Biography,Crime,History', 'Comedy,Documentary', 'Action,Drama,Film-Noir', 'Comedy,History,War', 'Adventure,Documentary,Thriller', 'Biography,Comedy,Musical', 'Drama,Fantasy,Film-Noir', 'Adventure,Animation', 'Action,Crime,Sci-Fi', 'Comedy,Family,Sci-Fi', 'Comedy,Family,Horror', 'Action,Fantasy,Horror', 'Biography,Documentary', 'Drama,Family,History', 'Animation,Drama,Family', 'Action,Family,Sci-Fi', 'Adventure,Drama,Sci-Fi', 'Film-Noir,Thriller', 'Sci-Fi,Thriller', 'Family,Fantasy,Romance', 'Crime,Film-Noir,Sport', 'Drama,Sport,War', 'Family,Romance', 'Drama,Musical,Western', 'Fantasy,Music,Musical', 'Biography,History,Music', 'Action,Sci-Fi,Thriller', 'Comedy,Crime,Fantasy', 'Music,Western', 'Animation,Comedy,Fantasy', 'Drama,Film-Noir,Western', 'Biography,Family,Musical', 'Comedy,Drama,Sci-Fi', 'Animation,Fantasy,Musical', 'Thriller,War,Western', 'Family,Fantasy,Music', 'Drama,Sport,Western', 'Crime,History,Musical', 'Horror,Romance', 'Crime,Family,Mystery', 'Biography,Drama,Film-Noir', 'Documentary,Family', 'History,Romance,Western', 'Comedy,Horror,Musical', 'Adventure,Biography,History', 'Adventure,Documentary,Fantasy', 'Animation,Fantasy', 'Drama,Fantasy,Music', 'Romance,War,Western', 'Musical,Romance,Thriller', 'Adventure,History,War', 'Crime,Drama,Sci-Fi', 'Adventure,Family,History', 'Comedy,Fantasy,Sport', 'Action,Fantasy,Sci-Fi', 'Animation,Drama', 'Comedy,Musical,Sci-Fi', 'History,Romance,War', 'Adventure,Musical', 'Action,Horror,Sci-Fi', 'Documentary,Musical', 'History,Thriller', 'Crime,Sci-Fi,Thriller', 'Film-Noir,Horror', 'Animation,Fantasy,Music', 'Biography,Documentary,History', 'Crime,Family', 'Comedy,Documentary,Music', 'Crime,Romance,Western', 'Biography,Drama,Thriller', 'Adventure,Crime,Fantasy', 'Crime,War', 'Family,Horror,Sci-Fi', 'Adventure,Fantasy,History', 'Action,Romance,War', 'Adventure,Family,War', 'Fantasy,Musical,Mystery', 'Animation,Horror,Sci-Fi', 'Comedy,Music,Thriller', 'Crime,Fantasy,Horror', 'Horror,Sci-Fi,Western', 'Biography,Crime,Film-Noir', 'Thriller,Western', 'Musical,Thriller', 'Horror,Mystery,Western', 'Documentary,Drama,Romance', 'Action,Mystery', 'Biography,Sci-Fi', 'Action,Biography,History', 'Documentary,Romance', 'Action,Horror,Romance', 'Documentary,Drama,History', 'Documentary,Drama,War', 'Adventure,Sci-Fi,Thriller', 'Horror,Western', 'Drama,Romance,Sci-Fi', 'Family,War', 'Documentary,History,News', 'Biography,Fantasy', 'Comedy,Documentary,History', 'Adventure,Comedy,Documentary', 'Family,Fantasy,History', 'Animation,Family', 'Animation,Documentary', 'Comedy,Sci-Fi,Thriller', 'Action,Horror', 'Adventure,History,Mystery', 'Mystery,Thriller,Western', 'Crime,Family,Romance', 'Family,Fantasy,Horror', 'Musical,Mystery,Thriller', 'Biography,Comedy,Sport', 'Drama,Musical,Sport', 'Action,Fantasy', 'Action,Adventure,Animation', 'Adventure,Biography,Comedy', 'Biography,Sport', 'Documentary,Horror', 'Action,Horror,Mystery', 'Comedy,Documentary,Drama', 'Drama,Fantasy,History', 'Fantasy,Mystery,Western', 'Comedy,War,Western', 'Fantasy,Music', 'Horror,Musical', 'Adventure,Fantasy,War', 'Fantasy,Music,Romance', 'Documentary,Music,News', 'Documentary,History,Music', 'Biography,Crime,Thriller', 'Animation,Comedy,Drama', 'Family,Sport', 'Adventure,Animation,Fantasy', 'Adventure,Biography', 'Biography,Drama,Horror', 'Adventure,Comedy,Sci-Fi', 'Adventure,Crime,History', 'Fantasy,History', 'Adventure,Biography,Family', 'Adventure,Animation,Sci-Fi', 'Comedy,Music,Sci-Fi', 'Action,Comedy,Horror', 'Comedy,Fantasy,Western', 'Action,Sport', 'Comedy,Documentary,Family', 'Family,Fantasy,Sci-Fi', 'Action,Animation,History', 'Action,Comedy,Sci-Fi', 'Crime,Musical,Mystery', 'Fantasy,Sci-Fi,Thriller', 'Biography,History,Romance', 'Documentary,Talk-Show', 'Action,Thriller,Western', 'Documentary,Drama,Music', 'Biography,Comedy,Documentary', 'Animation,Comedy,Musical', 'Biography,Documentary,Music', 'Action,History,War', 'Adventure,Musical,Mystery', 'Adventure,Crime,Horror', 'Family,Music', 'Biography,Comedy,History', 'Sport', 'Biography,Horror', 'Drama,Fantasy,Sport', 'Adventure,Biography,Crime', 'Animation,Drama,Sport', 'Crime,Thriller,Western', 'Musical,Sci-Fi', 'Documentary,Fantasy', 'Documentary,Family,Sport', 'Documentary,Music,Thriller', 'Mystery,Sci-Fi,Thriller', 'Action,Thriller,War', 'Adventure,Family,Sport', 'Comedy,Documentary,Sport', 'Fantasy,Mystery,Thriller', 'Biography,Documentary,Western', 'Biography,Romance', 'Animation,Family,Sci-Fi', 'Adventure,Crime,Musical', 'Biography,Crime,Documentary', 'Action,Crime,Fantasy', 'Adventure,Documentary,Romance', 'Horror,Romance,Thriller', 'Family,History,Sci-Fi', 'Action,Musical,Thriller', 'Crime,Horror,Musical', 'Action,Documentary,Sport', 'Family,Fantasy,Mystery', 'Horror,Thriller,Western', 'Action,Biography,Comedy', 'Adventure,Animation,Crime', 'Animation,Documentary,Drama', 'Adventure,History,Musical', 'Horror,Musical,Sci-Fi', 'Drama,Horror,Western', 'Biography,Documentary,Sport', 'Documentary,Drama,Fantasy', 'Animation,Sci-Fi', 'Animation,Drama,Fantasy', 'Action,Horror,Thriller', 'Action,Animation,Comedy', 'Documentary,Mystery', 'Action,Animation,Family', 'Comedy,Documentary,Horror', 'Animation,Comedy,Horror', 'Music,Sci-Fi', 'Documentary,Family,Musical', 'Documentary,History,Reality-TV', 'Animation,Documentary,Family', 'Animation,Comedy,Music', 'Crime,Documentary,Drama', 'Fantasy,Western', 'Action,Sci-Fi,Sport', 'Horror,War', 'Adventure,Horror,Thriller', 'Action,Fantasy,Musical', 'Comedy,Mystery,Sci-Fi', 'Documentary,Horror,Music', 'Documentary,Sci-Fi', 'Family,Romance,Sci-Fi', 'Fantasy,Musical,Sci-Fi', 'Comedy,Crime,History', 'Comedy,Documentary,Romance', 'Documentary,Mystery,Sci-Fi', 'Biography,History,War', 'Crime,Mystery,Western', 'Fantasy,Horror,Music', 'Crime,Documentary', 'Action,Family,Fantasy', 'Documentary,Drama,Western', 'Family,Mystery', 'Drama,Sci-Fi,Sport', 'Animation,Romance,Sci-Fi', 'Adventure,Mystery,Sci-Fi', 'Fantasy,History,Romance', 'Fantasy,Mystery,Sci-Fi', 'Music,Musical,Sci-Fi', 'Crime,Horror,Music', 'Action,Animation,Drama', 'Action,Crime,Sport', 'Family,Horror,Mystery', 'Animation,Drama,History', 'Crime,Music,Thriller', 'Action,Romance,Sci-Fi', 'Fantasy,Romance,Thriller', 'Animation,Comedy,Crime', 'Drama,Music,Thriller', 'Drama,Music,Sport', 'Action,Fantasy,Romance', 'Comedy,Documentary,Musical', 'Crime,Fantasy,Mystery', 'Drama,Horror,Musical', 'Action,Animation,Crime', 'Crime,Sport', 'Animation,Biography,Drama', 'Horror,Sport', 'Action,Fantasy,Thriller', 'Biography,Documentary,War', 'Fantasy,Mystery,Romance', 'Documentary,Drama,Horror', 'Adventure,Sci-Fi,Sport', 'History,Mystery', 'Biography,Crime', 'Action,Sci-Fi,Western', 'Action,Animation,Fantasy', 'Music,Mystery,Thriller', 'Animation,Drama,War', 'Adventure,Animation,Western', 'Action,Comedy,History', 'Action,Crime,War', 'Action,Family,Sport', 'Action,Animation,Music', 'Animation,Family,Romance', 'Documentary,Family,Fantasy', 'Action,Animation,Sci-Fi', 'Animation,Drama,Horror', 'Crime,Family,Thriller', 'Animation,Drama,Sci-Fi', 'Drama,Music,Sci-Fi', 'Action,Horror,War', 'Animation,Crime,Drama', 'Action,Horror,Western', 'Adventure,Drama,Sport', 'Horror,Music,Mystery', 'Action,History,Thriller', 'Animation,Biography,Comedy', 'Animation,Comedy,Sci-Fi', 'Action,Mystery,Western', 'Action,Biography', 'Biography,Fantasy,Mystery', 'Comedy,Horror,Western', 'Documentary,History,Romance', 'Animation,Comedy,Documentary', 'Adventure,Family,Thriller', 'Music,Thriller', 'Comedy,Fantasy,Thriller', 'Biography,Documentary,Romance', 'Animation,Drama,Romance', 'Crime,History,Mystery', 'Crime,Documentary,Mystery', 'Family,Thriller', 'Action,Musical,Mystery', 'Horror,Romance,Western', 'Animation,Biography,Documentary', 'Documentary,Drama,Sport', 'Animation,Drama,Thriller', 'Action,Biography,Documentary', 'Biography,Drama,Fantasy', 'Biography,Comedy,Thriller', 'Adventure,History,Western', 'Animation,Fantasy,Horror', 'Action,Fantasy,History', 'Comedy,Sci-Fi,Talk-Show', 'Action,Family', 'Romance,Sci-Fi,Thriller', 'Adventure,Documentary,Sport', 'Animation,Drama,Mystery', 'Biography,Documentary,Mystery', 'Crime,History', 'Biography,Comedy,Romance', 'Animation,Comedy,Thriller', 'Sci-Fi,Western', 'Biography,Documentary,Horror', 'Documentary,Family,Music', 'Biography,Drama,Sci-Fi', 'Drama,Family,Thriller', 'Adventure,Sci-Fi,Western', 'Documentary,Romance,War', 'Documentary,Thriller,War', 'Animation,Family,Musical', 'Drama,Family,Horror', 'Reality-TV,Thriller', 'Documentary,Drama,Thriller', 'Action,Mystery,Sci-Fi', 'Comedy,Reality-TV', 'Comedy,Family,Thriller', 'Mystery,Thriller,War', 'Adult,Romance', 'Adventure,Sport', 'Comedy,Crime,Documentary', 'Animation,Biography,History', 'Animation,History', 'Animation,Thriller', 'Animation,Family,History', 'Adventure,Biography,Documentary', 'Adventure,Documentary,News', 'Fantasy,Romance,Sci-Fi', 'Family,Fantasy,Sport', 'Game-Show', 'Crime,Music', 'Comedy,Talk-Show', 'Documentary,Music,Romance', 'Crime,Documentary,Fantasy', 'Comedy,Family,History', 'Animation,Comedy,Western', 'Action,Animation', 'Action,Musical,War', 'Action,Musical', 'Adventure,History,Thriller', 'Drama,Fantasy,Western', 'Animation,Comedy,Sport', 'Drama,Family,Sci-Fi', 'Horror,Music,Sci-Fi', 'Crime,Fantasy,Musical', 'Adventure,Family,Horror', 'Crime,Documentary,History', 'Animation,News', 'Documentary,Thriller', 'Fantasy,History,Horror', 'Adventure,Documentary,History', 'Action,Family,Thriller', 'Crime,Fantasy', 'Animation,Comedy,History', 'Documentary,Horror,Sci-Fi', 'Action,Documentary,War', 'Action,Crime,Documentary', 'Documentary,History,Musical', 'Action,Adventure,Sport', 'Animation,Musical', 'Fantasy,War', 'Animation,Documentary,War', 'Documentary,Music,Sport', 'Documentary,Fantasy,Music', 'Biography,Horror,Thriller', 'Family,Horror', 'Comedy,News', 'Animation,Fantasy,Sci-Fi', 'History,Mystery,Thriller', 'Documentary,Drama,Family', 'Comedy,Sport,War', 'Biography,Comedy,War', 'Animation,Horror', 'Action,Biography,Thriller', 'Family,Romance,Thriller', 'Comedy,History,Sport', 'Animation,Music,Sci-Fi', 'Mystery,Romance,Sci-Fi', 'Music,Mystery', 'Animation,Family,Music', 'Crime,Documentary,War', 'Biography,Fantasy,Music', 'Animation,Family,Mystery', 'Animation,Crime,Family', 'Documentary,Music,War', 'Family,History,Reality-TV', 'Documentary,History,Horror', 'Animation,Family,Sport', 'Action,Family,Romance', 'Family,History,Musical', 'Action,Documentary,Reality-TV', 'Documentary,War,Western', 'Documentary,Drama,Mystery', 'Action,Crime,History', 'Action,Animation,Biography', 'Comedy,Documentary,Mystery', 'Comedy,Game-Show,Sci-Fi', 'Music,Sci-Fi,Thriller', 'Comedy,Documentary,Fantasy', 'Comedy,Documentary,War', 'Biography,Romance,War', 'Drama,History,Sci-Fi', 'Family,Fantasy,Western', 'Adventure,Family,Music', 'Adventure,Fantasy,Thriller', 'Animation,Mystery', 'Action,Animation,Horror', 'Action,Musical,Western', 'Adventure,Fantasy,Western', 'Family,Music,Western', 'Adventure,Animation,Horror', 'Documentary,News', 'Reality-TV', 'Documentary,Horror,Mystery', 'Adventure,Crime,War', 'Action,Animation,Romance', 'Adventure,Animation,Biography', 'Documentary,Reality-TV,Thriller', 'Family,Mystery,Thriller', 'Biography,Crime,Horror', 'Documentary,Music,Musical', 'Action,Animation,Mystery', 'Adventure,Animation,Romance', 'Adventure,Documentary,Family', 'Comedy,Game-Show', 'Comedy,Music,Reality-TV', 'Animation,Fantasy,History', 'Family,Music,Musical', 'Action,Fantasy,Mystery', 'Action,Documentary,Family', 'Adventure,Documentary,War', 'Comedy,Documentary,Sci-Fi', 'Animation,Biography', 'Action,Comedy,Documentary', 'News', 'Animation,Music,Musical', 'Biography,Documentary,News', 'Action,Animation,Sport', 'Comedy,Documentary,Thriller', 'Musical,Sci-Fi,Thriller', 'Documentary,Reality-TV', 'Animation,Documentary,Fantasy', 'Music,Romance,Thriller', 'Adventure,Animation,History', 'Action,Biography,War', 'History,Horror,Sci-Fi', 'Crime,Documentary,Thriller', 'Biography,Documentary,Musical', 'Animation,Romance', 'Action,Family,Musical', 'Documentary,Drama,Musical', 'Fantasy,Sci-Fi,War', 'Musical,Mystery', 'Action,Documentary,Fantasy', 'Fantasy,Music,Mystery', 'Action,Family,Mystery', 'Adventure,Animation,Music', 'Comedy,Documentary,Reality-TV', 'Family,Music,Romance', 'Drama,Talk-Show', 'Mystery,War', 'Crime,Documentary,Horror', 'Documentary,Drama,Sci-Fi', 'Documentary,Family,Western', 'Fantasy,Sport', 'Biography,Fantasy,History', 'Biography,Thriller', 'Documentary,Family,War', 'Family,Mystery,Sci-Fi', 'Fantasy,Horror,War', 'Adventure,Animation,Documentary', 'Documentary,Family,History', 'Biography,Comedy,Horror', 'Biography,Comedy,Sci-Fi', 'Crime,Documentary,Western', 'Sci-Fi,War', 'Documentary,History,Thriller', 'Horror,Sport,Thriller', 'Adventure,Fantasy,Music', 'History,Sport', 'Animation,Horror,Mystery', 'Animation,Music', 'Animation,War', 'Animation,History,War', 'Action,History,Mystery', 'Documentary,History,Mystery', 'Documentary,Family,Mystery', 'Documentary,Horror,Thriller', 'Crime,Thriller,War', 'Animation,Crime,Music', 'Animation,Crime,Mystery', 'Documentary,History,Sci-Fi', 'Adventure,Music', 'Action,Adventure,Reality-TV', 'Crime,Documentary,News', 'Biography,History,Musical', 'Animation,Musical,Sport', 'Biography,Family', 'Animation,Family,Western', 'History,Horror,Thriller', 'History,Romance,Thriller', 'Adventure,History,Sci-Fi', 'Family,Reality-TV', 'Animation,Sport', 'Comedy,Documentary,Talk-Show', 'Comedy,Musical,Thriller', 'Talk-Show', 'Animation,Musical,Romance', 'History,Sci-Fi', 'Music,Sport', 'Comedy,Horror,Sport', 'Biography,History,Thriller', 'Animation,Mystery,Sci-Fi', 'Fantasy,Horror,Musical', 'Animation,Sci-Fi,War', 'Biography,Documentary,Family', 'Crime,Sport,Thriller', 'Drama,News,Thriller', 'Biography,Documentary,Reality-TV', 'Biography,Fantasy,Horror', 'Fantasy,Musical,Western', 'Biography,Music,Mystery', 'Adventure,Horror,Musical', 'Documentary,Mystery,Reality-TV', 'Animation,Biography,Music', 'Documentary,Horror,Musical', 'Biography,Documentary,Thriller', 'Adventure,Documentary,Horror', 'Action,Animation,Thriller', 'Crime,Reality-TV', 'Comedy,Mystery,Sport', 'Adventure,Documentary,Reality-TV', 'Documentary,Music,Mystery', 'History,Horror', 'Crime,Documentary,Music', 'Animation,Drama,Music', 'Crime,Documentary,Sport', 'Drama,Sci-Fi,Western', 'Horror,Reality-TV', 'Adventure,Musical,Sci-Fi', 'Documentary,Family,News', 'Animation,Fantasy,Thriller', 'Action,Comedy,Talk-Show', 'Drama,Horror,Sport', 'Family,Romance,Western', 'Animation,Crime,Sci-Fi', 'Crime,Romance,Sci-Fi', 'Adventure,Documentary,Mystery', 'Animation,Mystery,Thriller', 'Crime,Family,Musical', 'Action,History,Musical', 'Documentary,Mystery,Sport', 'Comedy,Documentary,Game-Show', 'Fantasy,Horror,Western', 'Action,Sci-Fi,War', 'Documentary,Musical,Thriller', 'Crime,Fantasy,Romance', 'Animation,Documentary,Sci-Fi', 'Crime,History,Thriller', 'Horror,Music,Musical', 'Drama,Reality-TV', 'History,Music', 'Animation,Documentary,Music', 'Action,Animation,Musical', 'Comedy,Drama,Reality-TV', 'Family,Romance,Sport', 'Animation,Fantasy,Mystery', 'Musical,Sport', 'Animation,Crime,Documentary', 'Biography,Documentary,Fantasy', 'Family,Musical,Mystery', 'Comedy,Crime,War', 'Comedy,Sci-Fi,Western', 'Biography,Comedy,Mystery', 'Documentary,Mystery,Thriller', 'Documentary,Drama,News', 'Family,Music,Sport', 'Adventure,Crime,Documentary', 'Animation,Documentary,News', 'Adventure,Documentary,Music', 'Animation,Comedy,War', 'Adventure,Documentary,Western', 'Adventure,Comedy,Reality-TV', 'Documentary,Fantasy,Sci-Fi', 'Animation,Comedy,Mystery', 'Crime,Fantasy,Thriller', 'Action,Documentary,History', 'Reality-TV,Talk-Show', 'Family,Sci-Fi,Sport', 'Animation,Biography,Family', 'Action,Documentary,Horror', 'Documentary,History,Western', 'Adventure,Horror,Western', 'Comedy,Documentary,News', 'Fantasy,History,Musical', 'Adventure,Documentary,Sci-Fi', 'Action,Fantasy,War', 'Documentary,Talk-Show,Thriller', 'Action,History,Horror', 'Animation,History,Musical', 'Documentary,News,Romance', 'Drama,Musical,Sci-Fi', 'Biography,Comedy,Family', 'Animation,Horror,Thriller', 'Documentary,News,War', 'Comedy,Thriller,Western', 'Fantasy,History,Music', 'Documentary,Fantasy,Mystery', 'Fantasy,Sci-Fi,Western', 'Animation,Biography,Fantasy', 'Animation,Music,Romance', 'Crime,Fantasy,Sci-Fi', 'Action,Animation,Game-Show', 'History,Thriller,War', 'Action,Fantasy,Western', 'Biography,Documentary,Sci-Fi', 'Family,Musical,Sport', 'Documentary,News,Reality-TV', 'Action,Documentary,News', 'Documentary,Sci-Fi,Thriller', 'Documentary,Music,Sci-Fi', 'Family,History,Romance', 'Animation,Sci-Fi,Thriller', 'Documentary,Fantasy,History', 'Adventure,Romance,Sport', 'Reality-TV,Sport', 'Animation,Talk-Show', 'Documentary,Sport,Thriller', 'Reality-TV,Sci-Fi', 'Biography,Drama,News', 'Biography,Documentary,Talk-Show', 'Family,Horror,Thriller', 'Music,Reality-TV', 'History,Horror,War', 'Documentary,Drama,Reality-TV', 'Action,Horror,Sport', 'Documentary,Mystery,News', 'Documentary,Sport,War', 'Biography,Family,Horror', 'History,Horror,Musical', 'Documentary,News,Thriller', 'Action,Sport,War', 'Comedy,Reality-TV,Romance', 'Documentary,Music,Western', 'Comedy,Documentary,Western', 'Comedy,Drama,News', 'Animation,Drama,Musical', 'Biography,History,Mystery', 'Action,Family,War', 'Animation,Crime,Horror', 'Documentary,Family,Romance', 'Biography,Comedy,Fantasy', 'Horror,Mystery,Reality-TV', 'Animation,Biography,Crime', 'Reality-TV,Romance', 'Documentary,Musical,Mystery', 'Family,Fantasy,War', 'History,Horror,Mystery', 'Biography,Family,History', 'Adventure,Music,Sci-Fi', 'Biography,Family,Sport', 'Family,History,War', 'Family,History', 'Action,Animation,Documentary', 'Comedy,Drama,Talk-Show', 'Biography,Mystery', 'Documentary,Game-Show,Reality-TV', 'Crime,Family,Horror', 'Action,Musical,Sci-Fi', 'Family,Horror,Romance', 'Crime,History,Horror', 'Fantasy,Mystery,War', 'Animation,Mystery,Romance', 'Crime,Musical,Thriller', 'Animation,Horror,Music', 'Documentary,Horror,News', 'Crime,Documentary,Family', 'Family,Mystery,Romance', 'Documentary,Horror,Romance', 'Comedy,Sport,Western', 'Horror,Music,Romance', 'Animation,History,Music', 'Comedy,Sci-Fi,Sport', 'Comedy,History,Horror', 'Action,Biography,Fantasy', 'Animation,Documentary,Musical', 'Documentary,Drama,Game-Show', 'Animation,Horror,Romance', 'Documentary,Sport,Western', 'Comedy,Drama,Game-Show', 'Documentary,Musical,Sport', 'Drama,Mystery,News', 'Comedy,Horror,War', 'Action,Game-Show', 'Family,Musical,Sci-Fi', 'Horror,Musical,Romance', 'Adventure,News', 'History,Sci-Fi,Thriller', 'Fantasy,Talk-Show', 'Animation,Western', 'Sport,War', 'Family,Mystery,Sport', 'Action,Documentary,Music', 'Action,Documentary,Sci-Fi', 'Sci-Fi,Sport', 'Animation,Fantasy,War', 'Comedy,Crime,News', 'Biography,Thriller,Western', 'Documentary,Fantasy,Musical', 'Biography,Talk-Show', 'Horror,Sci-Fi,War', 'Animation,Documentary,Mystery', 'History,Sport,Thriller', 'Crime,Family,Fantasy', 'Comedy,Sport,Thriller', 'Action,Animation,War', 'Family,Horror,War', 'Crime,Mystery,Sport', 'Biography,Thriller,War', 'Documentary,Sport,Talk-Show', 'Biography,History,Horror', 'Musical,Mystery,Sci-Fi', 'Crime,Fantasy,History', 'Biography,Crime,Western', 'Documentary,Horror,War', 'Action,History,Western', 'Music,News', 'Family,Sci-Fi,Thriller', 'Fantasy,History,War', 'Documentary,Family,Sci-Fi', 'Action,Documentary,Mystery', 'Biography,Crime,Fantasy', 'Game-Show,Sport']\n"
     ]
    }
   ],
   "source": [
    "# Display list of values from the column 'genres' \n",
    "unique_genres_list = movies['Genres'].unique().tolist()\n",
    "print(\"Unique Genres (list):\", unique_genres_list)"
   ]
  },
  {
   "cell_type": "code",
   "execution_count": 33,
   "metadata": {},
   "outputs": [],
   "source": [
    "# Drop rows containing nan in 'Genres'\n",
    "movies = movies.dropna(subset=['Genres'])"
   ]
  },
  {
   "cell_type": "code",
   "execution_count": 34,
   "metadata": {},
   "outputs": [],
   "source": [
    "# Save the genres list as a text file in the folder data\n",
    "with open('data/unique_genres.txt', 'w') as f:\n",
    "    for genres in unique_genres_list:\n",
    "        f.write(f\"{genres}\\n\")"
   ]
  },
  {
   "cell_type": "code",
   "execution_count": 35,
   "metadata": {},
   "outputs": [
    {
     "data": {
      "text/html": [
       "<div>\n",
       "<style scoped>\n",
       "    .dataframe tbody tr th:only-of-type {\n",
       "        vertical-align: middle;\n",
       "    }\n",
       "\n",
       "    .dataframe tbody tr th {\n",
       "        vertical-align: top;\n",
       "    }\n",
       "\n",
       "    .dataframe thead th {\n",
       "        text-align: right;\n",
       "    }\n",
       "</style>\n",
       "<table border=\"1\" class=\"dataframe\">\n",
       "  <thead>\n",
       "    <tr style=\"text-align: right;\">\n",
       "      <th></th>\n",
       "      <th>tconst</th>\n",
       "      <th>Title</th>\n",
       "      <th>Year</th>\n",
       "      <th>Genres</th>\n",
       "      <th>Rating</th>\n",
       "      <th>Votes</th>\n",
       "    </tr>\n",
       "  </thead>\n",
       "  <tbody>\n",
       "    <tr>\n",
       "      <th>8</th>\n",
       "      <td>tt0000009</td>\n",
       "      <td>Miss Jerry</td>\n",
       "      <td>1894.0</td>\n",
       "      <td>Romance</td>\n",
       "      <td>5.3</td>\n",
       "      <td>222</td>\n",
       "    </tr>\n",
       "    <tr>\n",
       "      <th>144</th>\n",
       "      <td>tt0000147</td>\n",
       "      <td>The Corbett-Fitzsimmons Fight</td>\n",
       "      <td>1897.0</td>\n",
       "      <td>Documentary,News,Sport</td>\n",
       "      <td>5.2</td>\n",
       "      <td>551</td>\n",
       "    </tr>\n",
       "    <tr>\n",
       "      <th>375</th>\n",
       "      <td>tt0000574</td>\n",
       "      <td>The Story of the Kelly Gang</td>\n",
       "      <td>1906.0</td>\n",
       "      <td>Action,Adventure,Biography</td>\n",
       "      <td>6.0</td>\n",
       "      <td>976</td>\n",
       "    </tr>\n",
       "    <tr>\n",
       "      <th>385</th>\n",
       "      <td>tt0000591</td>\n",
       "      <td>L'enfant prodigue</td>\n",
       "      <td>1907.0</td>\n",
       "      <td>Drama</td>\n",
       "      <td>5.6</td>\n",
       "      <td>31</td>\n",
       "    </tr>\n",
       "    <tr>\n",
       "      <th>401</th>\n",
       "      <td>tt0000615</td>\n",
       "      <td>Robbery Under Arms</td>\n",
       "      <td>1907.0</td>\n",
       "      <td>Drama</td>\n",
       "      <td>4.3</td>\n",
       "      <td>28</td>\n",
       "    </tr>\n",
       "  </tbody>\n",
       "</table>\n",
       "</div>"
      ],
      "text/plain": [
       "        tconst                          Title    Year  \\\n",
       "8    tt0000009                     Miss Jerry  1894.0   \n",
       "144  tt0000147  The Corbett-Fitzsimmons Fight  1897.0   \n",
       "375  tt0000574    The Story of the Kelly Gang  1906.0   \n",
       "385  tt0000591              L'enfant prodigue  1907.0   \n",
       "401  tt0000615             Robbery Under Arms  1907.0   \n",
       "\n",
       "                         Genres  Rating  Votes  \n",
       "8                       Romance     5.3    222  \n",
       "144      Documentary,News,Sport     5.2    551  \n",
       "375  Action,Adventure,Biography     6.0    976  \n",
       "385                       Drama     5.6     31  \n",
       "401                       Drama     4.3     28  "
      ]
     },
     "execution_count": 35,
     "metadata": {},
     "output_type": "execute_result"
    }
   ],
   "source": [
    "# Check our work one more time\n",
    "movies.head()"
   ]
  },
  {
   "cell_type": "code",
   "execution_count": 36,
   "metadata": {},
   "outputs": [],
   "source": [
    "# Save list of columns to a TXT file, reference for data dictionary\n",
    "with open('data/movies_columns.txt', 'w') as f:\n",
    "    for column in movies.columns:\n",
    "        f.write(column + '\\n')"
   ]
  },
  {
   "cell_type": "code",
   "execution_count": 37,
   "metadata": {},
   "outputs": [],
   "source": [
    "# Write the Cleaned Movies DataFrame keeping the Unique ID to a CSV file\n",
    "movies.to_csv('data/movies_ID.csv', index=False) # cleaner look with out the index"
   ]
  },
  {
   "cell_type": "code",
   "execution_count": 38,
   "metadata": {},
   "outputs": [],
   "source": [
    "# Drop column tconst from Dataframe movies\n",
    "movies = movies.drop(columns=['tconst'])"
   ]
  },
  {
   "cell_type": "code",
   "execution_count": 39,
   "metadata": {},
   "outputs": [],
   "source": [
    "# Write the Cleaned Movies DataFrame to a CSV file\n",
    "movies.to_csv('data/movies.csv', index=False) "
   ]
  },
  {
   "cell_type": "code",
   "execution_count": 40,
   "metadata": {},
   "outputs": [],
   "source": [
    "# Compress the movies.csv file\n",
    "with open('data/movies.csv', 'rb') as f_in:\n",
    "    with gzip.open('data/movies.csv.gz', 'wb') as f_out:\n",
    "        shutil.copyfileobj(f_in, f_out)"
   ]
  },
  {
   "cell_type": "code",
   "execution_count": 41,
   "metadata": {},
   "outputs": [],
   "source": [
    "# Create a new DataFrame 'drama' from 'movies' DataFrame where 'Genres' contains 'Drama'\n",
    "drama = movies[movies['Genres'].str.contains('Drama', na=False)].reset_index(drop=True)\n",
    "\n",
    "# Write the 'Drama' Movies DataFrame to a CSV file\n",
    "drama.to_csv('data/drama_mov.csv', index=False) "
   ]
  },
  {
   "cell_type": "code",
   "execution_count": 42,
   "metadata": {},
   "outputs": [],
   "source": [
    "# Compress the drama_mov.csv file\n",
    "with open('data/drama_mov.csv', 'rb') as f_in:\n",
    "    with gzip.open('data/drama_mov.csv.gz', 'wb') as f_out:\n",
    "        shutil.copyfileobj(f_in, f_out)"
   ]
  },
  {
   "cell_type": "code",
   "execution_count": 43,
   "metadata": {},
   "outputs": [],
   "source": [
    "# Create a new DataFrame 'comedy' from 'movies' DataFrame where 'Genres' contains 'Comedy'\n",
    "comedy = movies[movies['Genres'].str.contains('Comedy', na=False)].reset_index(drop=True)\n",
    "\n",
    "# Write the 'Comedy' Movies DataFrame to a CSV file\n",
    "comedy.to_csv('data/comedy_mov.csv', index=False) "
   ]
  },
  {
   "cell_type": "code",
   "execution_count": 44,
   "metadata": {},
   "outputs": [],
   "source": [
    "# Compress the comedy.csv file\n",
    "with open('data/comedy_mov.csv', 'rb') as f_in:\n",
    "    with gzip.open('data/comedy_mov.csv.gz', 'wb') as f_out:\n",
    "        shutil.copyfileobj(f_in, f_out)"
   ]
  },
  {
   "cell_type": "code",
   "execution_count": 45,
   "metadata": {},
   "outputs": [],
   "source": [
    "# Create a new DataFrame 'documentary' from 'movies' DataFrame where 'Genres' contains 'Documentary'\n",
    "documentary = movies[movies['Genres'].str.contains('Documentary', na=False)].reset_index(drop=True)\n",
    "\n",
    "# Write the 'Documentary' Movies DataFrame to a CSV file\n",
    "documentary.to_csv('data/documentary_mov.csv', index=False) "
   ]
  },
  {
   "cell_type": "code",
   "execution_count": 46,
   "metadata": {},
   "outputs": [],
   "source": [
    "# Compress the documentary.csv file\n",
    "with open('data/documentary_mov.csv', 'rb') as f_in:\n",
    "    with gzip.open('data/documentary_mov.csv.gz', 'wb') as f_out:\n",
    "        shutil.copyfileobj(f_in, f_out)"
   ]
  },
  {
   "cell_type": "code",
   "execution_count": 47,
   "metadata": {},
   "outputs": [],
   "source": [
    "# Create a new DataFrame 'romance' from 'movies' DataFrame where 'Genres' contains 'Romance'\n",
    "romance = movies[movies['Genres'].str.contains('Romance', na=False)].reset_index(drop=True)\n",
    "\n",
    "# Write the 'Romance' Movies DataFrame to a CSV file\n",
    "romance.to_csv('data/romance_mov.csv', index=False) "
   ]
  },
  {
   "cell_type": "code",
   "execution_count": 48,
   "metadata": {},
   "outputs": [],
   "source": [
    "# Compress the romance.csv file\n",
    "with open('data/romance_mov.csv', 'rb') as f_in:\n",
    "    with gzip.open('data/romance_mov.csv.gz', 'wb') as f_out:\n",
    "        shutil.copyfileobj(f_in, f_out)"
   ]
  },
  {
   "cell_type": "code",
   "execution_count": 49,
   "metadata": {},
   "outputs": [],
   "source": [
    "# Create a new DataFrame 'action' from 'movies' DataFrame where 'Genres' contains 'Action'\n",
    "action = movies[movies['Genres'].str.contains('Action', na=False)].reset_index(drop=True)\n",
    "\n",
    "# Write the 'Action' Movies DataFrame to a CSV file\n",
    "action.to_csv('data/action_mov.csv', index=False) "
   ]
  },
  {
   "cell_type": "code",
   "execution_count": 50,
   "metadata": {},
   "outputs": [],
   "source": [
    "# Compress the action.csv file\n",
    "with open('data/action_mov.csv', 'rb') as f_in:\n",
    "    with gzip.open('data/action_mov.csv.gz', 'wb') as f_out:\n",
    "        shutil.copyfileobj(f_in, f_out)"
   ]
  },
  {
   "cell_type": "code",
   "execution_count": 51,
   "metadata": {},
   "outputs": [],
   "source": [
    "# Create a new DataFrame 'crime' from 'movies' DataFrame where 'Genres' contains 'Crime'\n",
    "crime = movies[movies['Genres'].str.contains('Crime', na=False)].reset_index(drop=True)\n",
    "\n",
    "# Write the 'Crime' Movies DataFrame to a CSV file\n",
    "crime.to_csv('data/crime_mov.csv', index=False) "
   ]
  },
  {
   "cell_type": "code",
   "execution_count": 52,
   "metadata": {},
   "outputs": [],
   "source": [
    "# Compress the crime.csv file\n",
    "with open('data/crime_mov.csv', 'rb') as f_in:\n",
    "    with gzip.open('data/crime_mov.csv.gz', 'wb') as f_out:\n",
    "        shutil.copyfileobj(f_in, f_out)"
   ]
  },
  {
   "cell_type": "code",
   "execution_count": 53,
   "metadata": {},
   "outputs": [],
   "source": [
    "# Create a new DataFrame 'thriller' from 'movies' DataFrame where 'Genres' contains 'Thriller'\n",
    "thriller = movies[movies['Genres'].str.contains('Thriller', na=False)].reset_index(drop=True)\n",
    "\n",
    "# Write the 'Thriller' Movies DataFrame to a CSV file\n",
    "thriller.to_csv('data/thriller_mov.csv', index=False) "
   ]
  },
  {
   "cell_type": "code",
   "execution_count": 54,
   "metadata": {},
   "outputs": [],
   "source": [
    "# Compress the thriller.csv file\n",
    "with open('data/thriller_mov.csv', 'rb') as f_in:\n",
    "    with gzip.open('data/thriller_mov.csv.gz', 'wb') as f_out:\n",
    "        shutil.copyfileobj(f_in, f_out)"
   ]
  },
  {
   "cell_type": "code",
   "execution_count": 55,
   "metadata": {},
   "outputs": [],
   "source": [
    "# Create a new DataFrame 'horror' from 'movies' DataFrame where 'Genres' contains 'Horror'\n",
    "horror = movies[movies['Genres'].str.contains('Horror', na=False)].reset_index(drop=True)\n",
    "\n",
    "# Write the 'Horror' Movies DataFrame to a CSV file\n",
    "horror.to_csv('data/horror_mov.csv', index=False) "
   ]
  },
  {
   "cell_type": "code",
   "execution_count": 56,
   "metadata": {},
   "outputs": [],
   "source": [
    "# Compress the horror.csv file\n",
    "with open('data/horror_mov.csv', 'rb') as f_in:\n",
    "    with gzip.open('data/horror_mov.csv.gz', 'wb') as f_out:\n",
    "        shutil.copyfileobj(f_in, f_out)"
   ]
  },
  {
   "cell_type": "code",
   "execution_count": 57,
   "metadata": {},
   "outputs": [],
   "source": [
    "# Create a new DataFrame 'adventure' from 'movies' DataFrame where 'Genres' contains 'Adventure'\n",
    "adventure = movies[movies['Genres'].str.contains('Adventure', na=False)].reset_index(drop=True)\n",
    "\n",
    "# Write the 'adventure' Movies DataFrame to a CSV file\n",
    "adventure.to_csv('data/adventure_mov.csv', index=False) "
   ]
  },
  {
   "cell_type": "code",
   "execution_count": 58,
   "metadata": {},
   "outputs": [],
   "source": [
    "# Compress the adventure.csv file\n",
    "with open('data/adventure_mov.csv', 'rb') as f_in:\n",
    "    with gzip.open('data/adventure_mov.csv.gz', 'wb') as f_out:\n",
    "        shutil.copyfileobj(f_in, f_out)"
   ]
  },
  {
   "cell_type": "code",
   "execution_count": 59,
   "metadata": {},
   "outputs": [],
   "source": [
    "# Create a new DataFrame 'family' from 'movies' DataFrame where 'Genres' contains 'Family'\n",
    "family = movies[movies['Genres'].str.contains('Family', na=False)].reset_index(drop=True)\n",
    "\n",
    "# Write the 'Family' Movies DataFrame to a CSV file\n",
    "family.to_csv('data/family_mov.csv', index=False) "
   ]
  },
  {
   "cell_type": "code",
   "execution_count": 60,
   "metadata": {},
   "outputs": [],
   "source": [
    "# Compress the family.csv file\n",
    "with open('data/family_mov.csv', 'rb') as f_in:\n",
    "    with gzip.open('data/family_mov.csv.gz', 'wb') as f_out:\n",
    "        shutil.copyfileobj(f_in, f_out)"
   ]
  },
  {
   "cell_type": "code",
   "execution_count": 61,
   "metadata": {},
   "outputs": [],
   "source": [
    "# Delete movies.csv\n",
    "#os.remove('data/movies.csv')"
   ]
  }
 ],
 "metadata": {
  "kernelspec": {
   "display_name": "Python 3",
   "language": "python",
   "name": "python3"
  },
  "language_info": {
   "codemirror_mode": {
    "name": "ipython",
    "version": 3
   },
   "file_extension": ".py",
   "mimetype": "text/x-python",
   "name": "python",
   "nbconvert_exporter": "python",
   "pygments_lexer": "ipython3",
   "version": "3.13.0"
  }
 },
 "nbformat": 4,
 "nbformat_minor": 2
}
